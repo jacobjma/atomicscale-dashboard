{
 "cells": [
  {
   "cell_type": "code",
   "execution_count": 10,
   "metadata": {},
   "outputs": [],
   "source": [
    "from atomicscale_dashboard.artists import PointArtist, ImageArtist, LinesArtist, GraphArtist\n",
    "from atomicscale_dashboard.canvas import Canvas, TimeLine\n",
    "from atomicscale_dashboard.extensions import ImageFileLoader, GaussianFilterWidget, ClampWidget\n",
    "from atomicscale_dashboard.extensions import TEMNetMetadataLoader\n",
    "from atomicscale_dashboard.extensions import GraphWidget, ItemSelector, DictionaryPrint, IntSliderWithButtons\n",
    "from atomicscale_dashboard.extensions import link\n",
    "from atomicscale_dashboard.tools import PanZoom, BoxZoom, AddPoint, DeletePoint, DragPoint, PolygonTool\n",
    "from atomicscale_dashboard.utils import walk_dir, insert_folder_in_path\n",
    "from IPython.core.display import display, HTML\n",
    "\n",
    "import ipywidgets as widgets\n",
    "from traitlets import directional_link"
   ]
  },
  {
   "cell_type": "code",
   "execution_count": 11,
   "metadata": {},
   "outputs": [
    {
     "data": {
      "text/html": [
       "<style>.container { width:80% !important; }</style>"
      ],
      "text/plain": [
       "<IPython.core.display.HTML object>"
      ]
     },
     "metadata": {},
     "output_type": "display_data"
    }
   ],
   "source": [
    "display(HTML(\"<style>.container { width:80% !important; }</style>\"))"
   ]
  },
  {
   "cell_type": "code",
   "execution_count": 12,
   "metadata": {},
   "outputs": [],
   "source": [
    "base_path = 'D:\\\\data\\\\hBN_export'\n",
    "fnames = walk_dir(base_path,'.tif')\n",
    "\n",
    "#fnames"
   ]
  },
  {
   "cell_type": "code",
   "execution_count": 13,
   "metadata": {},
   "outputs": [
    {
     "data": {
      "application/vnd.jupyter.widget-view+json": {
       "model_id": "200dc1dd518a4c2aa5877f7af517c439",
       "version_major": 2,
       "version_minor": 0
      },
      "text/plain": [
       "VBox(children=(HBox(children=(HBox(children=(VBox(children=(VBox(children=(VBox(children=(Checkbox(value=True,…"
      ]
     },
     "metadata": {},
     "output_type": "display_data"
    }
   ],
   "source": [
    "file_selector = ItemSelector(sequence=fnames[:])\n",
    "\n",
    "image_file_loader = ImageFileLoader()\n",
    "directional_link((file_selector, 'current_item'), (image_file_loader, 'path'))\n",
    "\n",
    "metadata_loader = TEMNetMetadataLoader(base_path=base_path)\n",
    "directional_link((file_selector, 'current_item'), (metadata_loader, 'path'))\n",
    "\n",
    "frame_selector = ItemSelector(debounce=.1)\n",
    "directional_link((image_file_loader, 'images'), (frame_selector, 'sequence'))\n",
    "link((frame_selector, 'current_index'), (metadata_loader, 'current_frame'))\n",
    "\n",
    "gaussian_filter = GaussianFilterWidget()\n",
    "directional_link((frame_selector, 'current_item'), (gaussian_filter, 'image_in'))\n",
    "\n",
    "display_image_artist = ImageArtist()\n",
    "directional_link((gaussian_filter, 'image_out'), (display_image_artist, 'image'))\n",
    "\n",
    "point_artist = PointArtist()\n",
    "\n",
    "link((metadata_loader, 'current_points'), (point_artist, 'points'))\n",
    "link((metadata_loader, 'current_labels'), (point_artist, 'labels'))\n",
    "\n",
    "lines_artist = LinesArtist(colors=['lime'])\n",
    "link((metadata_loader, 'current_segments'), (lines_artist, 'lines'))\n",
    "\n",
    "graph = GraphWidget()\n",
    "link((point_artist, 'points'), (graph, 'points'))\n",
    "\n",
    "graph_artist = LinesArtist()\n",
    "link((graph, 'edges'), (graph_artist, 'lines'))\n",
    "\n",
    "canvas = Canvas()\n",
    "\n",
    "timeline = TimeLine()\n",
    "link((metadata_loader, 'segment_areas'), (timeline, 'data'))\n",
    "link((timeline, 'current_index'), (frame_selector, 'current_index'))\n",
    "\n",
    "canvas.artists = {'Defects':lines_artist, 'Points':point_artist, 'Graph':graph_artist, 'Image':display_image_artist}\n",
    "canvas.tools = {'Pan': PanZoom(), \n",
    "                'Box zoom':BoxZoom(), \n",
    "                'Drag point': DragPoint(point_artist=point_artist),\n",
    "                'Add point B':AddPoint(point_artist=point_artist, label=0), \n",
    "                'Add point N':AddPoint(point_artist=point_artist, label=1),\n",
    "                'Delete point':DeletePoint(point_artist=point_artist, tolerance=50),\n",
    "                'Add polygon':PolygonTool(lines_artist=lines_artist),\n",
    "                'Remove polygon':PolygonTool(lines_artist=lines_artist, subtract=True)}\n",
    "\n",
    "fname_text = widgets.HTML(description='Current file:')\n",
    "\n",
    "text_area = widgets.Textarea(value='', description='', layout=widgets.Layout(width='400px', height='300px'))\n",
    "directional_link((metadata_loader, 'summary'), (text_area, 'value'))\n",
    "\n",
    "summary_text = widgets.Text(value='summaries', description='', layout=widgets.Layout(width='400px'))\n",
    "write_summary_button = widgets.Button(description='Write summary')\n",
    "summary_writer = widgets.HBox([summary_text, write_summary_button])\n",
    "\n",
    "def write_summary(*args):\n",
    "    path = insert_folder_in_path(base_folder, 'analysis', file_selector.current_item)\n",
    "    path = os.path.splitext(path)[0] + '.csv'\n",
    "    \n",
    "    Path(os.path.split(path)[0]).mkdir(parents=True, exist_ok=True)\n",
    "    \n",
    "    with open(path, 'w') as f:\n",
    "        f.write(text_area.value)\n",
    "\n",
    "write_summary_button.on_click(write_summary)\n",
    "\n",
    "right_panel = widgets.VBox([fname_text, \n",
    "                            file_selector.widget, \n",
    "                            frame_selector.widget, \n",
    "                            gaussian_filter.widget, \n",
    "                            timeline.widget, \n",
    "                            metadata_loader.widget,\n",
    "                            text_area,\n",
    "                            summary_writer])\n",
    "\n",
    "app = widgets.VBox([widgets.HBox([canvas.widget, right_panel])])\n",
    "app"
   ]
  }
 ],
 "metadata": {
  "kernelspec": {
   "display_name": "atom-dashboard",
   "language": "python",
   "name": "atom-dashboard"
  },
  "language_info": {
   "codemirror_mode": {
    "name": "ipython",
    "version": 3
   },
   "file_extension": ".py",
   "mimetype": "text/x-python",
   "name": "python",
   "nbconvert_exporter": "python",
   "pygments_lexer": "ipython3",
   "version": "3.7.10"
  },
  "pycharm": {
   "stem_cell": {
    "cell_type": "raw",
    "source": [],
    "metadata": {
     "collapsed": false
    }
   }
  }
 },
 "nbformat": 4,
 "nbformat_minor": 1
}